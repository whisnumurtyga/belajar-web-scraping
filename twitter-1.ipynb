{
 "cells": [
  {
   "cell_type": "code",
   "execution_count": 14,
   "metadata": {},
   "outputs": [],
   "source": [
    "import asyncio\n",
    "from playwright.async_api import async_playwright\n",
    "\n",
    "import pandas as pd\n",
    "import re"
   ]
  },
  {
   "cell_type": "code",
   "execution_count": 15,
   "metadata": {},
   "outputs": [
    {
     "name": "stderr",
     "output_type": "stream",
     "text": [
      "Task exception was never retrieved\n",
      "future: <Task finished name='Task-11' coro=<Connection.run() done, defined at C:\\Users\\whisn\\AppData\\Roaming\\Python\\Python39\\site-packages\\playwright\\_impl\\_connection.py:264> exception=NotImplementedError()>\n",
      "Traceback (most recent call last):\n",
      "  File \"C:\\Users\\whisn\\AppData\\Roaming\\Python\\Python39\\site-packages\\playwright\\_impl\\_connection.py\", line 271, in run\n",
      "    await self._transport.connect()\n",
      "  File \"C:\\Users\\whisn\\AppData\\Roaming\\Python\\Python39\\site-packages\\playwright\\_impl\\_transport.py\", line 135, in connect\n",
      "    raise exc\n",
      "  File \"C:\\Users\\whisn\\AppData\\Roaming\\Python\\Python39\\site-packages\\playwright\\_impl\\_transport.py\", line 123, in connect\n",
      "    self._proc = await asyncio.create_subprocess_exec(\n",
      "  File \"c:\\ProgramData\\Anaconda3\\lib\\asyncio\\subprocess.py\", line 236, in create_subprocess_exec\n",
      "    transport, protocol = await loop.subprocess_exec(\n",
      "  File \"c:\\ProgramData\\Anaconda3\\lib\\asyncio\\base_events.py\", line 1676, in subprocess_exec\n",
      "    transport = await self._make_subprocess_transport(\n",
      "  File \"c:\\ProgramData\\Anaconda3\\lib\\asyncio\\base_events.py\", line 498, in _make_subprocess_transport\n",
      "    raise NotImplementedError\n",
      "NotImplementedError\n"
     ]
    },
    {
     "ename": "NotImplementedError",
     "evalue": "",
     "output_type": "error",
     "traceback": [
      "\u001b[1;31m---------------------------------------------------------------------------\u001b[0m",
      "\u001b[1;31mNotImplementedError\u001b[0m                       Traceback (most recent call last)",
      "\u001b[1;32mc:\\Users\\whisn\\Downloads\\Whisnumurty\\Kuliah\\Skill Development\\Hard Skill\\Web Scraping With Python\\twitter-1.ipynb Cell 2\u001b[0m line \u001b[0;36m5\n\u001b[0;32m     <a href='vscode-notebook-cell:/c%3A/Users/whisn/Downloads/Whisnumurty/Kuliah/Skill%20Development/Hard%20Skill/Web%20Scraping%20With%20Python/twitter-1.ipynb#W1sZmlsZQ%3D%3D?line=47'>48</a>\u001b[0m \u001b[39m# set the url to scrape from\u001b[39;00m\n\u001b[0;32m     <a href='vscode-notebook-cell:/c%3A/Users/whisn/Downloads/Whisnumurty/Kuliah/Skill%20Development/Hard%20Skill/Web%20Scraping%20With%20Python/twitter-1.ipynb#W1sZmlsZQ%3D%3D?line=48'>49</a>\u001b[0m url \u001b[39m=\u001b[39m \u001b[39m\"\u001b[39m\u001b[39mhttps://twitter.com/hacktiv8id?lang=en\u001b[39m\u001b[39m\"\u001b[39m\n\u001b[1;32m---> <a href='vscode-notebook-cell:/c%3A/Users/whisn/Downloads/Whisnumurty/Kuliah/Skill%20Development/Hard%20Skill/Web%20Scraping%20With%20Python/twitter-1.ipynb#W1sZmlsZQ%3D%3D?line=50'>51</a>\u001b[0m result \u001b[39m=\u001b[39m \u001b[39mawait\u001b[39;00m getTweets(url)\n",
      "\u001b[1;32mc:\\Users\\whisn\\Downloads\\Whisnumurty\\Kuliah\\Skill Development\\Hard Skill\\Web Scraping With Python\\twitter-1.ipynb Cell 2\u001b[0m line \u001b[0;36m4\n\u001b[0;32m     <a href='vscode-notebook-cell:/c%3A/Users/whisn/Downloads/Whisnumurty/Kuliah/Skill%20Development/Hard%20Skill/Web%20Scraping%20With%20Python/twitter-1.ipynb#W1sZmlsZQ%3D%3D?line=40'>41</a>\u001b[0m \u001b[39masync\u001b[39;00m \u001b[39mdef\u001b[39;00m \u001b[39mgetTweets\u001b[39m(url):\n\u001b[1;32m---> <a href='vscode-notebook-cell:/c%3A/Users/whisn/Downloads/Whisnumurty/Kuliah/Skill%20Development/Hard%20Skill/Web%20Scraping%20With%20Python/twitter-1.ipynb#W1sZmlsZQ%3D%3D?line=41'>42</a>\u001b[0m     tweets \u001b[39m=\u001b[39m \u001b[39mawait\u001b[39;00m scrape_tweets(url)\n\u001b[0;32m     <a href='vscode-notebook-cell:/c%3A/Users/whisn/Downloads/Whisnumurty/Kuliah/Skill%20Development/Hard%20Skill/Web%20Scraping%20With%20Python/twitter-1.ipynb#W1sZmlsZQ%3D%3D?line=42'>43</a>\u001b[0m     \u001b[39mfor\u001b[39;00m i, tweet \u001b[39min\u001b[39;00m \u001b[39menumerate\u001b[39m(tweets, \u001b[39m1\u001b[39m):\n\u001b[0;32m     <a href='vscode-notebook-cell:/c%3A/Users/whisn/Downloads/Whisnumurty/Kuliah/Skill%20Development/Hard%20Skill/Web%20Scraping%20With%20Python/twitter-1.ipynb#W1sZmlsZQ%3D%3D?line=43'>44</a>\u001b[0m         \u001b[39mprint\u001b[39m(\u001b[39mf\u001b[39m\u001b[39m\"\u001b[39m\u001b[39mTweet \u001b[39m\u001b[39m{\u001b[39;00mi\u001b[39m}\u001b[39;00m\u001b[39m:\u001b[39m\u001b[39m\\n\u001b[39;00m\u001b[39m{\u001b[39;00mtweet\u001b[39m}\u001b[39;00m\u001b[39m\\n\u001b[39;00m\u001b[39m{\u001b[39;00m\u001b[39m'\u001b[39m\u001b[39m=\u001b[39m\u001b[39m'\u001b[39m\u001b[39m*\u001b[39m\u001b[39m80\u001b[39m\u001b[39m}\u001b[39;00m\u001b[39m\"\u001b[39m)\n",
      "\u001b[1;32mc:\\Users\\whisn\\Downloads\\Whisnumurty\\Kuliah\\Skill Development\\Hard Skill\\Web Scraping With Python\\twitter-1.ipynb Cell 2\u001b[0m line \u001b[0;36m9\n\u001b[0;32m      <a href='vscode-notebook-cell:/c%3A/Users/whisn/Downloads/Whisnumurty/Kuliah/Skill%20Development/Hard%20Skill/Web%20Scraping%20With%20Python/twitter-1.ipynb#W1sZmlsZQ%3D%3D?line=7'>8</a>\u001b[0m \u001b[39masync\u001b[39;00m \u001b[39mdef\u001b[39;00m \u001b[39mscrape_tweets\u001b[39m(url: \u001b[39mstr\u001b[39m):\n\u001b[1;32m----> <a href='vscode-notebook-cell:/c%3A/Users/whisn/Downloads/Whisnumurty/Kuliah/Skill%20Development/Hard%20Skill/Web%20Scraping%20With%20Python/twitter-1.ipynb#W1sZmlsZQ%3D%3D?line=8'>9</a>\u001b[0m     \u001b[39masync\u001b[39;00m \u001b[39mwith\u001b[39;00m async_playwright() \u001b[39mas\u001b[39;00m p:\n\u001b[0;32m     <a href='vscode-notebook-cell:/c%3A/Users/whisn/Downloads/Whisnumurty/Kuliah/Skill%20Development/Hard%20Skill/Web%20Scraping%20With%20Python/twitter-1.ipynb#W1sZmlsZQ%3D%3D?line=9'>10</a>\u001b[0m         browser \u001b[39m=\u001b[39m \u001b[39mawait\u001b[39;00m p\u001b[39m.\u001b[39mchromium\u001b[39m.\u001b[39mlaunch()\n\u001b[0;32m     <a href='vscode-notebook-cell:/c%3A/Users/whisn/Downloads/Whisnumurty/Kuliah/Skill%20Development/Hard%20Skill/Web%20Scraping%20With%20Python/twitter-1.ipynb#W1sZmlsZQ%3D%3D?line=10'>11</a>\u001b[0m         context \u001b[39m=\u001b[39m \u001b[39mawait\u001b[39;00m browser\u001b[39m.\u001b[39mnew_context()\n",
      "File \u001b[1;32m~\\AppData\\Roaming\\Python\\Python39\\site-packages\\playwright\\async_api\\_context_manager.py:47\u001b[0m, in \u001b[0;36mPlaywrightContextManager.__aenter__\u001b[1;34m(self)\u001b[0m\n\u001b[0;32m     45\u001b[0m \u001b[39mif\u001b[39;00m \u001b[39mnot\u001b[39;00m playwright_future\u001b[39m.\u001b[39mdone():\n\u001b[0;32m     46\u001b[0m     playwright_future\u001b[39m.\u001b[39mcancel()\n\u001b[1;32m---> 47\u001b[0m playwright \u001b[39m=\u001b[39m AsyncPlaywright(\u001b[39mnext\u001b[39;49m(\u001b[39miter\u001b[39;49m(done))\u001b[39m.\u001b[39;49mresult())\n\u001b[0;32m     48\u001b[0m playwright\u001b[39m.\u001b[39mstop \u001b[39m=\u001b[39m \u001b[39mself\u001b[39m\u001b[39m.\u001b[39m\u001b[39m__aexit__\u001b[39m  \u001b[39m# type: ignore\u001b[39;00m\n\u001b[0;32m     49\u001b[0m \u001b[39mreturn\u001b[39;00m playwright\n",
      "File \u001b[1;32m~\\AppData\\Roaming\\Python\\Python39\\site-packages\\playwright\\_impl\\_connection.py:271\u001b[0m, in \u001b[0;36mConnection.run\u001b[1;34m(self)\u001b[0m\n\u001b[0;32m    268\u001b[0m \u001b[39masync\u001b[39;00m \u001b[39mdef\u001b[39;00m \u001b[39minit\u001b[39m() \u001b[39m-\u001b[39m\u001b[39m>\u001b[39m \u001b[39mNone\u001b[39;00m:\n\u001b[0;32m    269\u001b[0m     \u001b[39mself\u001b[39m\u001b[39m.\u001b[39mplaywright_future\u001b[39m.\u001b[39mset_result(\u001b[39mawait\u001b[39;00m \u001b[39mself\u001b[39m\u001b[39m.\u001b[39m_root_object\u001b[39m.\u001b[39minitialize())\n\u001b[1;32m--> 271\u001b[0m \u001b[39mawait\u001b[39;00m \u001b[39mself\u001b[39m\u001b[39m.\u001b[39m_transport\u001b[39m.\u001b[39mconnect()\n\u001b[0;32m    272\u001b[0m \u001b[39mself\u001b[39m\u001b[39m.\u001b[39m_init_task \u001b[39m=\u001b[39m \u001b[39mself\u001b[39m\u001b[39m.\u001b[39m_loop\u001b[39m.\u001b[39mcreate_task(init())\n\u001b[0;32m    273\u001b[0m \u001b[39mawait\u001b[39;00m \u001b[39mself\u001b[39m\u001b[39m.\u001b[39m_transport\u001b[39m.\u001b[39mrun()\n",
      "File \u001b[1;32m~\\AppData\\Roaming\\Python\\Python39\\site-packages\\playwright\\_impl\\_transport.py:135\u001b[0m, in \u001b[0;36mPipeTransport.connect\u001b[1;34m(self)\u001b[0m\n\u001b[0;32m    133\u001b[0m \u001b[39mexcept\u001b[39;00m \u001b[39mException\u001b[39;00m \u001b[39mas\u001b[39;00m exc:\n\u001b[0;32m    134\u001b[0m     \u001b[39mself\u001b[39m\u001b[39m.\u001b[39mon_error_future\u001b[39m.\u001b[39mset_exception(exc)\n\u001b[1;32m--> 135\u001b[0m     \u001b[39mraise\u001b[39;00m exc\n\u001b[0;32m    137\u001b[0m \u001b[39mself\u001b[39m\u001b[39m.\u001b[39m_output \u001b[39m=\u001b[39m \u001b[39mself\u001b[39m\u001b[39m.\u001b[39m_proc\u001b[39m.\u001b[39mstdin\n",
      "File \u001b[1;32m~\\AppData\\Roaming\\Python\\Python39\\site-packages\\playwright\\_impl\\_transport.py:123\u001b[0m, in \u001b[0;36mPipeTransport.connect\u001b[1;34m(self)\u001b[0m\n\u001b[0;32m    120\u001b[0m         startupinfo\u001b[39m.\u001b[39mdwFlags \u001b[39m|\u001b[39m\u001b[39m=\u001b[39m subprocess\u001b[39m.\u001b[39mSTARTF_USESHOWWINDOW\n\u001b[0;32m    121\u001b[0m         startupinfo\u001b[39m.\u001b[39mwShowWindow \u001b[39m=\u001b[39m subprocess\u001b[39m.\u001b[39mSW_HIDE\n\u001b[1;32m--> 123\u001b[0m     \u001b[39mself\u001b[39m\u001b[39m.\u001b[39m_proc \u001b[39m=\u001b[39m \u001b[39mawait\u001b[39;00m asyncio\u001b[39m.\u001b[39mcreate_subprocess_exec(\n\u001b[0;32m    124\u001b[0m         \u001b[39mstr\u001b[39m(\u001b[39mself\u001b[39m\u001b[39m.\u001b[39m_driver_executable),\n\u001b[0;32m    125\u001b[0m         \u001b[39m\"\u001b[39m\u001b[39mrun-driver\u001b[39m\u001b[39m\"\u001b[39m,\n\u001b[0;32m    126\u001b[0m         stdin\u001b[39m=\u001b[39masyncio\u001b[39m.\u001b[39msubprocess\u001b[39m.\u001b[39mPIPE,\n\u001b[0;32m    127\u001b[0m         stdout\u001b[39m=\u001b[39masyncio\u001b[39m.\u001b[39msubprocess\u001b[39m.\u001b[39mPIPE,\n\u001b[0;32m    128\u001b[0m         stderr\u001b[39m=\u001b[39m_get_stderr_fileno(),\n\u001b[0;32m    129\u001b[0m         limit\u001b[39m=\u001b[39m\u001b[39m32768\u001b[39m,\n\u001b[0;32m    130\u001b[0m         env\u001b[39m=\u001b[39menv,\n\u001b[0;32m    131\u001b[0m         startupinfo\u001b[39m=\u001b[39mstartupinfo,\n\u001b[0;32m    132\u001b[0m     )\n\u001b[0;32m    133\u001b[0m \u001b[39mexcept\u001b[39;00m \u001b[39mException\u001b[39;00m \u001b[39mas\u001b[39;00m exc:\n\u001b[0;32m    134\u001b[0m     \u001b[39mself\u001b[39m\u001b[39m.\u001b[39mon_error_future\u001b[39m.\u001b[39mset_exception(exc)\n",
      "File \u001b[1;32mc:\\ProgramData\\Anaconda3\\lib\\asyncio\\subprocess.py:236\u001b[0m, in \u001b[0;36mcreate_subprocess_exec\u001b[1;34m(program, stdin, stdout, stderr, loop, limit, *args, **kwds)\u001b[0m\n\u001b[0;32m    229\u001b[0m     warnings\u001b[39m.\u001b[39mwarn(\u001b[39m\"\u001b[39m\u001b[39mThe loop argument is deprecated since Python 3.8 \u001b[39m\u001b[39m\"\u001b[39m\n\u001b[0;32m    230\u001b[0m                   \u001b[39m\"\u001b[39m\u001b[39mand scheduled for removal in Python 3.10.\u001b[39m\u001b[39m\"\u001b[39m,\n\u001b[0;32m    231\u001b[0m                   \u001b[39mDeprecationWarning\u001b[39;00m,\n\u001b[0;32m    232\u001b[0m                   stacklevel\u001b[39m=\u001b[39m\u001b[39m2\u001b[39m\n\u001b[0;32m    233\u001b[0m     )\n\u001b[0;32m    234\u001b[0m protocol_factory \u001b[39m=\u001b[39m \u001b[39mlambda\u001b[39;00m: SubprocessStreamProtocol(limit\u001b[39m=\u001b[39mlimit,\n\u001b[0;32m    235\u001b[0m                                                     loop\u001b[39m=\u001b[39mloop)\n\u001b[1;32m--> 236\u001b[0m transport, protocol \u001b[39m=\u001b[39m \u001b[39mawait\u001b[39;00m loop\u001b[39m.\u001b[39msubprocess_exec(\n\u001b[0;32m    237\u001b[0m     protocol_factory,\n\u001b[0;32m    238\u001b[0m     program, \u001b[39m*\u001b[39margs,\n\u001b[0;32m    239\u001b[0m     stdin\u001b[39m=\u001b[39mstdin, stdout\u001b[39m=\u001b[39mstdout,\n\u001b[0;32m    240\u001b[0m     stderr\u001b[39m=\u001b[39mstderr, \u001b[39m*\u001b[39m\u001b[39m*\u001b[39mkwds)\n\u001b[0;32m    241\u001b[0m \u001b[39mreturn\u001b[39;00m Process(transport, protocol, loop)\n",
      "File \u001b[1;32mc:\\ProgramData\\Anaconda3\\lib\\asyncio\\base_events.py:1676\u001b[0m, in \u001b[0;36mBaseEventLoop.subprocess_exec\u001b[1;34m(self, protocol_factory, program, stdin, stdout, stderr, universal_newlines, shell, bufsize, encoding, errors, text, *args, **kwargs)\u001b[0m\n\u001b[0;32m   1674\u001b[0m     debug_log \u001b[39m=\u001b[39m \u001b[39mf\u001b[39m\u001b[39m'\u001b[39m\u001b[39mexecute program \u001b[39m\u001b[39m{\u001b[39;00mprogram\u001b[39m!r}\u001b[39;00m\u001b[39m'\u001b[39m\n\u001b[0;32m   1675\u001b[0m     \u001b[39mself\u001b[39m\u001b[39m.\u001b[39m_log_subprocess(debug_log, stdin, stdout, stderr)\n\u001b[1;32m-> 1676\u001b[0m transport \u001b[39m=\u001b[39m \u001b[39mawait\u001b[39;00m \u001b[39mself\u001b[39m\u001b[39m.\u001b[39m_make_subprocess_transport(\n\u001b[0;32m   1677\u001b[0m     protocol, popen_args, \u001b[39mFalse\u001b[39;00m, stdin, stdout, stderr,\n\u001b[0;32m   1678\u001b[0m     bufsize, \u001b[39m*\u001b[39m\u001b[39m*\u001b[39mkwargs)\n\u001b[0;32m   1679\u001b[0m \u001b[39mif\u001b[39;00m \u001b[39mself\u001b[39m\u001b[39m.\u001b[39m_debug \u001b[39mand\u001b[39;00m debug_log \u001b[39mis\u001b[39;00m \u001b[39mnot\u001b[39;00m \u001b[39mNone\u001b[39;00m:\n\u001b[0;32m   1680\u001b[0m     logger\u001b[39m.\u001b[39minfo(\u001b[39m'\u001b[39m\u001b[39m%s\u001b[39;00m\u001b[39m: \u001b[39m\u001b[39m%r\u001b[39;00m\u001b[39m'\u001b[39m, debug_log, transport)\n",
      "File \u001b[1;32mc:\\ProgramData\\Anaconda3\\lib\\asyncio\\base_events.py:498\u001b[0m, in \u001b[0;36mBaseEventLoop._make_subprocess_transport\u001b[1;34m(self, protocol, args, shell, stdin, stdout, stderr, bufsize, extra, **kwargs)\u001b[0m\n\u001b[0;32m    494\u001b[0m \u001b[39masync\u001b[39;00m \u001b[39mdef\u001b[39;00m \u001b[39m_make_subprocess_transport\u001b[39m(\u001b[39mself\u001b[39m, protocol, args, shell,\n\u001b[0;32m    495\u001b[0m                                      stdin, stdout, stderr, bufsize,\n\u001b[0;32m    496\u001b[0m                                      extra\u001b[39m=\u001b[39m\u001b[39mNone\u001b[39;00m, \u001b[39m*\u001b[39m\u001b[39m*\u001b[39mkwargs):\n\u001b[0;32m    497\u001b[0m \u001b[39m    \u001b[39m\u001b[39m\"\"\"Create subprocess transport.\"\"\"\u001b[39;00m\n\u001b[1;32m--> 498\u001b[0m     \u001b[39mraise\u001b[39;00m \u001b[39mNotImplementedError\u001b[39;00m\n",
      "\u001b[1;31mNotImplementedError\u001b[0m: "
     ]
    }
   ],
   "source": [
    "async def get_text_content(h_elements):\n",
    "  text_list = []\n",
    "  for h_ele in h_elements:\n",
    "    h_text = await h_ele.text_content()\n",
    "    text_list.append(h_text.strip())\n",
    "  return text_list\n",
    "\n",
    "async def scrape_tweets(url: str):\n",
    "    async with async_playwright() as p:\n",
    "        browser = await p.chromium.launch()\n",
    "        context = await browser.new_context()\n",
    "        page = await context.new_page()\n",
    "\n",
    "        await page.goto(url, wait_until='load', timeout=60000)\n",
    "\n",
    "        # Scroll untuk load lebih banyak tweets\n",
    "        for _ in range(3):  # Ubah angka scroll tergantung mau load berapa banyak\n",
    "            await page.evaluate(\"window.scrollTo(0, document.body.scrollHeight)\")\n",
    "            await asyncio.sleep(2)\n",
    "\n",
    "        # Cari semua tweet, mereka ada di dalam <article> elements\n",
    "        tweets_elements = await page.query_selector_all(\"article\")\n",
    "\n",
    "        # Disini kita mengambil elemen yang diinginkan, kalian boleh modifikasi untuk mengambil url tweet atau lainnya\n",
    "        tweets = []\n",
    "        for tweet_element in tweets_elements:\n",
    "            tweet_userdate = await tweet_element.query_selector_all(\"a\") #username, @userid, datetime\n",
    "            tweet_userdate_texts = await get_text_content(tweet_userdate)\n",
    "\n",
    "            tweet_likes = await tweet_element.query_selector_all('div[data-testid=\"like\"]')\n",
    "\n",
    "            tweet_textdiv = await tweet_element.query_selector('div[data-testid=\"tweetText\"]')\n",
    "            tweet_text = await get_text_content([tweet_textdiv])\n",
    "\n",
    "            if tweet_text:\n",
    "                tweets.append([tweet_userdate_texts, tweet_text])\n",
    "\n",
    "        await browser.close()\n",
    "        return tweets\n",
    "\n",
    "async def getTweets(url):\n",
    "    tweets = await scrape_tweets(url)\n",
    "    for i, tweet in enumerate(tweets, 1):\n",
    "        print(f\"Tweet {i}:\\n{tweet}\\n{'='*80}\")\n",
    "    return tweets\n",
    "\n",
    "\n",
    "# set the url to scrape from\n",
    "url = \"https://twitter.com/hacktiv8id?lang=en\"\n",
    "\n",
    "result = await getTweets(url)"
   ]
  },
  {
   "cell_type": "code",
   "execution_count": null,
   "metadata": {},
   "outputs": [
    {
     "ename": "NameError",
     "evalue": "name 'result' is not defined",
     "output_type": "error",
     "traceback": [
      "\u001b[1;31m---------------------------------------------------------------------------\u001b[0m",
      "\u001b[1;31mNameError\u001b[0m                                 Traceback (most recent call last)",
      "\u001b[1;32mc:\\Users\\whisn\\Downloads\\Whisnumurty\\Kuliah\\Skill Development\\Hard Skill\\Web Scraping With Python\\twitter.ipynb Cell 3\u001b[0m line \u001b[0;36m1\n\u001b[1;32m----> <a href='vscode-notebook-cell:/c%3A/Users/whisn/Downloads/Whisnumurty/Kuliah/Skill%20Development/Hard%20Skill/Web%20Scraping%20With%20Python/twitter.ipynb#W3sZmlsZQ%3D%3D?line=0'>1</a>\u001b[0m \u001b[39mprint\u001b[39m(\u001b[39mlen\u001b[39m(result))\n",
      "\u001b[1;31mNameError\u001b[0m: name 'result' is not defined"
     ]
    }
   ],
   "source": [
    "print(len(result)) # cek jumlah tweet"
   ]
  },
  {
   "cell_type": "code",
   "execution_count": null,
   "metadata": {},
   "outputs": [
    {
     "ename": "NameError",
     "evalue": "name 'result' is not defined",
     "output_type": "error",
     "traceback": [
      "\u001b[1;31m---------------------------------------------------------------------------\u001b[0m",
      "\u001b[1;31mNameError\u001b[0m                                 Traceback (most recent call last)",
      "\u001b[1;32mc:\\Users\\whisn\\Downloads\\Whisnumurty\\Kuliah\\Skill Development\\Hard Skill\\Web Scraping With Python\\twitter.ipynb Cell 4\u001b[0m line \u001b[0;36m4\n\u001b[0;32m      <a href='vscode-notebook-cell:/c%3A/Users/whisn/Downloads/Whisnumurty/Kuliah/Skill%20Development/Hard%20Skill/Web%20Scraping%20With%20Python/twitter.ipynb#W4sZmlsZQ%3D%3D?line=0'>1</a>\u001b[0m \u001b[39m# simpan hasil scrape ke csv\u001b[39;00m\n\u001b[0;32m      <a href='vscode-notebook-cell:/c%3A/Users/whisn/Downloads/Whisnumurty/Kuliah/Skill%20Development/Hard%20Skill/Web%20Scraping%20With%20Python/twitter.ipynb#W4sZmlsZQ%3D%3D?line=1'>2</a>\u001b[0m df_tweets \u001b[39m=\u001b[39m pd\u001b[39m.\u001b[39mDataFrame(columns\u001b[39m=\u001b[39m[\u001b[39m\"\u001b[39m\u001b[39mUser\u001b[39m\u001b[39m\"\u001b[39m, \u001b[39m\"\u001b[39m\u001b[39mHandle\u001b[39m\u001b[39m\"\u001b[39m, \u001b[39m\"\u001b[39m\u001b[39mDate\u001b[39m\u001b[39m\"\u001b[39m, \u001b[39m\"\u001b[39m\u001b[39mTweetText\u001b[39m\u001b[39m\"\u001b[39m])\n\u001b[1;32m----> <a href='vscode-notebook-cell:/c%3A/Users/whisn/Downloads/Whisnumurty/Kuliah/Skill%20Development/Hard%20Skill/Web%20Scraping%20With%20Python/twitter.ipynb#W4sZmlsZQ%3D%3D?line=3'>4</a>\u001b[0m \u001b[39mfor\u001b[39;00m one_tweet \u001b[39min\u001b[39;00m result:\n\u001b[0;32m      <a href='vscode-notebook-cell:/c%3A/Users/whisn/Downloads/Whisnumurty/Kuliah/Skill%20Development/Hard%20Skill/Web%20Scraping%20With%20Python/twitter.ipynb#W4sZmlsZQ%3D%3D?line=4'>5</a>\u001b[0m   [userdate, [text]] \u001b[39m=\u001b[39m one_tweet\n\u001b[0;32m      <a href='vscode-notebook-cell:/c%3A/Users/whisn/Downloads/Whisnumurty/Kuliah/Skill%20Development/Hard%20Skill/Web%20Scraping%20With%20Python/twitter.ipynb#W4sZmlsZQ%3D%3D?line=6'>7</a>\u001b[0m   new_row \u001b[39m=\u001b[39m {\u001b[39m\"\u001b[39m\u001b[39mUser\u001b[39m\u001b[39m\"\u001b[39m:userdate[\u001b[39m1\u001b[39m], \u001b[39m\"\u001b[39m\u001b[39mHandle\u001b[39m\u001b[39m\"\u001b[39m:userdate[\u001b[39m2\u001b[39m], \u001b[39m\"\u001b[39m\u001b[39mDate\u001b[39m\u001b[39m\"\u001b[39m:userdate[\u001b[39m3\u001b[39m], \u001b[39m\"\u001b[39m\u001b[39mTweetText\u001b[39m\u001b[39m\"\u001b[39m:text}\n",
      "\u001b[1;31mNameError\u001b[0m: name 'result' is not defined"
     ]
    }
   ],
   "source": [
    "# simpan hasil scrape ke csv\n",
    "df_tweets = pd.DataFrame(columns=[\"User\", \"Handle\", \"Date\", \"TweetText\"])\n",
    "\n",
    "for one_tweet in result:\n",
    "  [userdate, [text]] = one_tweet\n",
    "\n",
    "  new_row = {\"User\":userdate[1], \"Handle\":userdate[2], \"Date\":userdate[3], \"TweetText\":text}\n",
    "\n",
    "  df_tweets.loc[len(df_tweets)] = new_row\n",
    "\n",
    "display(df_tweets)\n",
    "df_tweets.to_csv(\"Twitter_hacktiv8_today.csv\")"
   ]
  }
 ],
 "metadata": {
  "kernelspec": {
   "display_name": "base",
   "language": "python",
   "name": "python3"
  },
  "language_info": {
   "codemirror_mode": {
    "name": "ipython",
    "version": 3
   },
   "file_extension": ".py",
   "mimetype": "text/x-python",
   "name": "python",
   "nbconvert_exporter": "python",
   "pygments_lexer": "ipython3",
   "version": "3.9.16"
  },
  "orig_nbformat": 4
 },
 "nbformat": 4,
 "nbformat_minor": 2
}
